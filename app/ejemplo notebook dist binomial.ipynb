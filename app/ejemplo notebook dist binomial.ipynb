{
 "cells": [
  {
   "cell_type": "code",
   "execution_count": 3,
   "metadata": {},
   "outputs": [],
   "source": [
    "import numpy as np\n",
    "from numpy.random import binomial\n",
    "from scipy.stats import binom\n",
    "from math import factorial\n",
    "import matplotlib.pyplot as plt"
   ]
  },
  {
   "attachments": {},
   "cell_type": "markdown",
   "metadata": {},
   "source": [
    "## Secuencias de eventos tipo Bernoulli\n",
    "\n",
    "$$\n",
    "P(k, n; p) = {n \\choose k} p^k (1-p)^{n-k} = \\frac{n!}{k!(n-k)!}p^k (1-p)^{n-k}\n",
    "$$"
   ]
  },
  {
   "cell_type": "code",
   "execution_count": null,
   "metadata": {},
   "outputs": [],
   "source": [
    "# definición de la distribución binomial \n",
    "def my_binomial(k, n, p):\n",
    "  return factorial(n)/(factorial(k)*(factorial(n-k)))*pow(p,k)*pow(1-p, n-k)"
   ]
  },
  {
   "cell_type": "code",
   "execution_count": null,
   "metadata": {},
   "outputs": [],
   "source": [
    "print('my binomial: {}'.format(my_binomial(2, 3, 0.5)))\n",
    "dist = binom(3, 0.5)\n",
    "dist.pmf(2)"
   ]
  },
  {
   "attachments": {},
   "cell_type": "markdown",
   "metadata": {},
   "source": [
    "## Validación del ejercicio hecho a mano\n",
    "\n",
    "$$\n",
    "P(k\\leq 2, n=3, p=1/2) = \\sum_{k=0}^2 \\left[ \\frac{n!}{k!(n-k)!}p^k (1-p)^{n-k} \\right] = \\frac{7}{8}\n",
    "$$"
   ]
  },
  {
   "cell_type": "code",
   "execution_count": null,
   "metadata": {},
   "outputs": [],
   "source": [
    "print(7/8.0)\n",
    "dist.cdf(2)"
   ]
  },
  {
   "attachments": {},
   "cell_type": "markdown",
   "metadata": {},
   "source": [
    "## Simulaciones de secuencias con generadores aleatorios\n",
    "\n",
    "* Los generadores aleatorios tienen como propósito simular muestras de datos que resultarían de muestreos en la vida real de procesos aleatorios como lanzar una moneda o un dado."
   ]
  },
  {
   "cell_type": "code",
   "execution_count": null,
   "metadata": {},
   "outputs": [],
   "source": [
    "# simulación de lanzar n monedas (10) equilibradas (.5) y ver cuantas caen en cara.\n",
    "# (ejecuta esta celda varias veces para observar la variación en los resultados)\n",
    "p=0.5\n",
    "n=10\n",
    "binomial(n, p)"
   ]
  },
  {
   "cell_type": "code",
   "execution_count": null,
   "metadata": {},
   "outputs": [],
   "source": [
    "# Vamos a hacer un experimento generando una muestra de conjuntos de lanzamientos de a n monedas\n",
    "# en este caso 100 lanzamientos de n monedas para saber cuantas caen en cara en cada experimento\n",
    "arr = []\n",
    "for i in range(100):\n",
    "  arr.append(binomial(n, p))\n",
    "\n",
    "print(arr)"
   ]
  },
  {
   "cell_type": "code",
   "execution_count": null,
   "metadata": {},
   "outputs": [],
   "source": [
    "# probabilidades de cada combinacion, ejemplo:\n",
    "# si el resultado es 1 suceso exitoso de los 7, aparecera 7 y asi sucesivamente hasta tener el numero de experimentos\n",
    "# el unique regresa la cuenta cada resultado de cada experimento.\n",
    "# tomo el segundo campo del array generado como este: [[1,2,3],[10,12,8]] para 30 experimentos, entonces el segundo campo\n",
    "# es el que tiene todos los conteos y luego de ahi lo divido entre el total de experimentos para sacar los\n",
    "np.unique(arr, return_counts=True)[1]/len(arr)"
   ]
  },
  {
   "cell_type": "code",
   "execution_count": 19,
   "metadata": {},
   "outputs": [
    {
     "name": "stdout",
     "output_type": "stream",
     "text": [
      "EL DE CONTEO:  (array([3, 4, 5, 6, 7, 8]), array([5, 6, 3, 2, 3, 1]))\n"
     ]
    },
    {
     "ename": "ValueError",
     "evalue": "operands could not be broadcast together with shapes (11,) (6,) ",
     "output_type": "error",
     "traceback": [
      "\u001b[0;31m---------------------------------------------------------------------------\u001b[0m",
      "\u001b[0;31mValueError\u001b[0m                                Traceback (most recent call last)",
      "Cell \u001b[0;32mIn[19], line 35\u001b[0m\n\u001b[1;32m     31\u001b[0m   plt\u001b[39m.\u001b[39mtitle(\u001b[39m'\u001b[39m\u001b[39msimulación con \u001b[39m\u001b[39m{}\u001b[39;00m\u001b[39m experimentos\u001b[39m\u001b[39m'\u001b[39m\u001b[39m.\u001b[39mformat(num_trials))\n\u001b[1;32m     32\u001b[0m   plt\u001b[39m.\u001b[39mshow()\n\u001b[0;32m---> 35\u001b[0m plot_hist(\u001b[39m20\u001b[39;49m,\u001b[39m10\u001b[39;49m,\u001b[39m0.5\u001b[39;49m)\n\u001b[1;32m     36\u001b[0m \u001b[39m#plot_hist(200,n,p)\u001b[39;00m\n\u001b[1;32m     37\u001b[0m \u001b[39m#plot_hist(20000,n,p)\u001b[39;00m\n",
      "Cell \u001b[0;32mIn[19], line 15\u001b[0m, in \u001b[0;36mplot_hist\u001b[0;34m(num_trials, monedas, porciento)\u001b[0m\n\u001b[1;32m     10\u001b[0m arrayDeConteo \u001b[39m=\u001b[39m np\u001b[39m.\u001b[39munique(arr, return_counts\u001b[39m=\u001b[39m\u001b[39mTrue\u001b[39;00m)\n\u001b[1;32m     13\u001b[0m \u001b[39mprint\u001b[39m(\u001b[39m\"\u001b[39m\u001b[39mEL DE CONTEO: \u001b[39m\u001b[39m\"\u001b[39m, arrayDeConteo)\n\u001b[0;32m---> 15\u001b[0m arrComplete \u001b[39m=\u001b[39m \u001b[39mlist\u001b[39m(\u001b[39mset\u001b[39m(values \u001b[39m+\u001b[39;49m arrayDeConteo[\u001b[39m0\u001b[39;49m]))\n\u001b[1;32m     16\u001b[0m \u001b[39mprint\u001b[39m(\u001b[39m\"\u001b[39m\u001b[39mEL COMPLETO ES: \u001b[39m\u001b[39m\"\u001b[39m , arrComplete)\n\u001b[1;32m     18\u001b[0m distribucion_simulada \u001b[39m=\u001b[39m arrayDeConteo[\u001b[39m1\u001b[39m]\u001b[39m/\u001b[39m\u001b[39mlen\u001b[39m(arr)\n",
      "\u001b[0;31mValueError\u001b[0m: operands could not be broadcast together with shapes (11,) (6,) "
     ]
    }
   ],
   "source": [
    "def plot_hist(num_trials,monedas,porciento):\n",
    "  # valores posibles en cada lanzamiento de n monedas de que caigan en cara\n",
    "  values = [0,1,2,3,4,5,6,7,8,9,10]\n",
    "  arr = []\n",
    "  # se hace el experimento num_trials veces\n",
    "  for i in range(num_trials):\n",
    "    arr.append(binomial(monedas, porciento))\n",
    "  \n",
    "  # resultados del experimento  \n",
    "  arrayDeConteo = np.unique(arr, return_counts=True)\n",
    "\n",
    "\n",
    "  print(\"EL DE CONTEO: \", arrayDeConteo)\n",
    "\n",
    "  arrComplete = np.hstack(values,arrayDeConteo[0])\n",
    "  \n",
    "  print(\"EL COMPLETO ES: \" , arrComplete)\n",
    "\n",
    "  distribucion_simulada = arrayDeConteo[1]/len(arr)\n",
    "\n",
    "\n",
    "  # resultados teoricos del experimento\n",
    "  distribucion_teorica = [binom(monedas, porciento).pmf(k) for k in values]\n",
    "  \n",
    "  # se grafica la distribucion teorica en rojo\n",
    "  plt.bar(values, distribucion_teorica, label = 'teoría', color = 'red')\n",
    "  \n",
    "  # se grafica la distribucion teorica en azul\n",
    "  #plt.bar(values, distribucion_simulada, label = 'simulación', alpha = 0.5, color = 'blue')\n",
    "  print(distribucion_teorica)\n",
    "  print(distribucion_simulada)\n",
    "  plt.title('simulación con {} experimentos'.format(num_trials))\n",
    "  plt.show()\n",
    "\n",
    "\n",
    "plot_hist(20,10,0.5)\n",
    "#plot_hist(200,n,p)\n",
    "#plot_hist(20000,n,p)"
   ]
  },
  {
   "cell_type": "code",
   "execution_count": null,
   "metadata": {},
   "outputs": [],
   "source": [
    "plot_hist(500000)"
   ]
  }
 ],
 "metadata": {
  "kernelspec": {
   "display_name": "nuevoEnv",
   "language": "python",
   "name": "python3"
  },
  "language_info": {
   "codemirror_mode": {
    "name": "ipython",
    "version": 3
   },
   "file_extension": ".py",
   "mimetype": "text/x-python",
   "name": "python",
   "nbconvert_exporter": "python",
   "pygments_lexer": "ipython3",
   "version": "3.10.8"
  },
  "orig_nbformat": 4,
  "vscode": {
   "interpreter": {
    "hash": "b139aa848899a0a5d1349afec11018226cb3409662ffc34539e9dceb27f9e7a3"
   }
  }
 },
 "nbformat": 4,
 "nbformat_minor": 2
}
