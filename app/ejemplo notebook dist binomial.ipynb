{
 "cells": [
  {
   "cell_type": "code",
   "execution_count": 3,
   "metadata": {},
   "outputs": [],
   "source": [
    "import numpy as np\n",
    "from numpy.random import binomial\n",
    "from scipy.stats import binom\n",
    "from math import factorial\n",
    "import matplotlib.pyplot as plt\n"
   ]
  },
  {
   "attachments": {},
   "cell_type": "markdown",
   "metadata": {},
   "source": [
    "## Secuencias de eventos tipo Bernoulli\n",
    "\n",
    "$$\n",
    "P(k, n; p) = {n \\choose k} p^k (1-p)^{n-k} = \\frac{n!}{k!(n-k)!}p^k (1-p)^{n-k}\n",
    "$$"
   ]
  },
  {
   "cell_type": "code",
   "execution_count": null,
   "metadata": {},
   "outputs": [],
   "source": [
    "# definición de la distribución binomial\n",
    "def my_binomial(k, n, p):\n",
    "    return factorial(n)/(factorial(k)*(factorial(n-k)))*pow(p, k)*pow(1-p, n-k)\n"
   ]
  },
  {
   "cell_type": "code",
   "execution_count": null,
   "metadata": {},
   "outputs": [],
   "source": [
    "print('my binomial: {}'.format(my_binomial(2, 3, 0.5)))\n",
    "dist = binom(3, 0.5)\n",
    "dist.pmf(2)\n"
   ]
  },
  {
   "attachments": {},
   "cell_type": "markdown",
   "metadata": {},
   "source": [
    "## Validación del ejercicio hecho a mano\n",
    "\n",
    "$$\n",
    "P(k\\leq 2, n=3, p=1/2) = \\sum_{k=0}^2 \\left[ \\frac{n!}{k!(n-k)!}p^k (1-p)^{n-k} \\right] = \\frac{7}{8}\n",
    "$$"
   ]
  },
  {
   "cell_type": "code",
   "execution_count": null,
   "metadata": {},
   "outputs": [],
   "source": [
    "print(7/8.0)\n",
    "dist.cdf(2)\n"
   ]
  },
  {
   "cell_type": "code",
   "execution_count": null,
   "metadata": {},
   "outputs": [],
   "source": [
    "# Vamos a hacer un experimento generando una muestra de conjuntos de lanzamientos de a n monedas\n",
    "# en este caso 100 lanzamientos de n monedas para saber cuantas caen en cara en cada experimento\n",
    "arr = []\n",
    "for i in range(100):\n",
    "    arr.append(binomial(n, p))\n",
    "\n",
    "print(arr)\n"
   ]
  },
  {
   "attachments": {},
   "cell_type": "markdown",
   "metadata": {},
   "source": [
    "## Simulaciones de secuencias con generadores aleatorios\n",
    "\n",
    "* Los generadores aleatorios tienen como propósito simular muestras de datos que resultarían de muestreos en la vida real de procesos aleatorios como lanzar una moneda o un dado."
   ]
  },
  {
   "cell_type": "code",
   "execution_count": 7,
   "metadata": {},
   "outputs": [],
   "source": [
    "import numpy as np\n",
    "from numpy.random import binomial\n",
    "from scipy.stats import binom\n",
    "from math import factorial\n",
    "import matplotlib.pyplot as plt\n"
   ]
  },
  {
   "cell_type": "code",
   "execution_count": 21,
   "metadata": {},
   "outputs": [
    {
     "data": {
      "text/plain": [
       "6"
      ]
     },
     "execution_count": 21,
     "metadata": {},
     "output_type": "execute_result"
    }
   ],
   "source": [
    "# simulación de lanzar n monedas (10) equilibradas (.5) y ver cuantas caen en cara.\n",
    "# (ejecuta esta celda varias veces para observar la variación en los resultados)\n",
    "p = 0.5\n",
    "n = 10\n",
    "binomial(n, p)\n"
   ]
  },
  {
   "cell_type": "code",
   "execution_count": 34,
   "metadata": {},
   "outputs": [],
   "source": [
    "def verificacionArrays(arrCompleto,arrayDeConteo):\n",
    "    aVerificado=[]\n",
    "\n",
    "    print(\"array completo\",arrCompleto)\n",
    "    print(\"array de conteo\", arrayDeConteo)\n",
    "\n",
    "    for i in arrCompleto:\n",
    "        try:\n",
    "            idx=list(arrayDeConteo[0]).index(i)            \n",
    "            aVerificado.append(list(arrayDeConteo[1])[idx]/sum(arrayDeConteo[1]))\n",
    "        except:\n",
    "            aVerificado.append(0)\n",
    "\n",
    "    return aVerificado\n"
   ]
  },
  {
   "cell_type": "code",
   "execution_count": 35,
   "metadata": {},
   "outputs": [
    {
     "name": "stdout",
     "output_type": "stream",
     "text": [
      "array completo [0, 1, 2, 3, 4, 5, 6, 7, 8, 9, 10]\n",
      "array de conteo (array([2, 6]), array([1, 1]))\n",
      "array verificado:  [0, 0, 0.5, 0, 0, 0, 0.5, 0, 0, 0, 0]\n"
     ]
    },
    {
     "data": {
      "image/png": "[encoded data removed]",
      "text/plain": [
       "<Figure size 640x480 with 1 Axes>"
      ]
     },
     "metadata": {},
     "output_type": "display_data"
    }
   ],
   "source": [
    "def plot_hist(num_trials, monedas, porciento):\n",
    "    # valores posibles en cada lanzamiento de n monedas de que caigan en cara\n",
    "    values = []\n",
    "    arr = []\n",
    "\n",
    "    # se genera el array de valores con el numero de monedas\n",
    "    for n in range(monedas+1):\n",
    "        values.append(n)\n",
    "\n",
    "    # resultados teoricos del experimento\n",
    "    distribucion_teorica = [binom(monedas, porciento).pmf(k) for k in values]\n",
    "\n",
    "    # se hace el experimento num_trials veces\n",
    "    for i in range(num_trials):\n",
    "        arr.append(binomial(monedas, porciento))\n",
    "\n",
    "    # se estandarizan los datos del experimento, poniendo 0's donde deben\n",
    "    arrayDeConteo = np.unique(arr, return_counts=True)\n",
    "    arrCompleto = list(set(np.hstack((values, arrayDeConteo[0]))))\n",
    "    # resultados del experimento\n",
    "    distribucion_simulada = verificacionArrays(arrCompleto,arrayDeConteo)\n",
    "    \n",
    "    # se grafica la distribucion teorica en rojo\n",
    "    plt.bar(values, distribucion_teorica, label='teoría', color='red')\n",
    "\n",
    "    # se grafica la distribucion teorica en azul\n",
    "    plt.bar(values, distribucion_simulada, label = 'simulación', alpha = 0.5, color = 'blue')\n",
    "\n",
    "    plt.show()\n",
    "\n",
    "plot_hist(2,n,p)\n",
    "#plot_hist(20,n,p)\n",
    "#plot_hist(200,n,p)\n",
    "#plot_hist(20000,n,p)\n",
    "#plot_hist(200000,n,p)\n",
    "#plot_hist(2000000,n,p)"
   ]
  }
 ],
 "metadata": {
  "kernelspec": {
   "display_name": "nuevoEnv",
   "language": "python",
   "name": "python3"
  },
  "language_info": {
   "codemirror_mode": {
    "name": "ipython",
    "version": 3
   },
   "file_extension": ".py",
   "mimetype": "text/x-python",
   "name": "python",
   "nbconvert_exporter": "python",
   "pygments_lexer": "ipython3",
   "version": "3.10.8"
  },
  "orig_nbformat": 4,
  "vscode": {
   "interpreter": {
    "hash": "b139aa848899a0a5d1349afec11018226cb3409662ffc34539e9dceb27f9e7a3"
   }
  }
 },
 "nbformat": 4,
 "nbformat_minor": 2
}
