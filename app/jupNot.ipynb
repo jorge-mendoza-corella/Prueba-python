{
 "cells": [
  {
   "attachments": {},
   "cell_type": "markdown",
   "metadata": {},
   "source": [
    "prueba para saber qe hace el codigo\n"
   ]
  },
  {
   "cell_type": "code",
   "execution_count": null,
   "metadata": {},
   "outputs": [],
   "source": [
    "x=1\n",
    " \n",
    " "
   ]
  },
  {
   "cell_type": "code",
   "execution_count": 3,
   "metadata": {},
   "outputs": [],
   "source": [
    "import csv\n",
    "\n",
    "\n",
    "def read_csv(path):\n",
    "    with open(path, 'r') as csvfile:\n",
    "        reader = csv.reader(csvfile, delimiter=',')\n",
    "        header = next(reader)\n",
    "        data = []\n",
    "        for row in reader:\n",
    "            iterable = zip(header, row)\n",
    "            country = {key: value for key, value in iterable}\n",
    "            data.append(country)\n",
    "        return data\n",
    "\n",
    "\n",
    "if __name__ == '__main__':\n",
    "    data = read_csv('data.csv')\n",
    "    # tamano = lambda lista:len(lista)\n",
    "    # print(tamano(data))\n"
   ]
  }
 ],
 "metadata": {
  "kernelspec": {
   "display_name": "Python 3",
   "language": "python",
   "name": "python3"
  },
  "language_info": {
   "codemirror_mode": {
    "name": "ipython",
    "version": 3
   },
   "file_extension": ".py",
   "mimetype": "text/x-python",
   "name": "python",
   "nbconvert_exporter": "python",
   "pygments_lexer": "ipython3",
   "version": "3.11.1 (tags/v3.11.1:a7a450f, Dec  6 2022, 19:58:39) [MSC v.1934 64 bit (AMD64)]"
  },
  "orig_nbformat": 4,
  "vscode": {
   "interpreter": {
    "hash": "975b87bede55a6e873020ab7b2450c163c95309c19bb78f6d4df0454a5964594"
   }
  }
 },
 "nbformat": 4,
 "nbformat_minor": 2
}
