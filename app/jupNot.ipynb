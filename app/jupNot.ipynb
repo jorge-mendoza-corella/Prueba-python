{
 "cells": [
  {
   "cell_type": "markdown",
   "metadata": {},
   "source": [
    "prueba para saber qe hace el codigo\n"
   ]
  },
  {
   "cell_type": "code",
   "execution_count": 1,
   "metadata": {},
   "outputs": [
    {
     "name": "stdout",
     "output_type": "stream",
     "text": [
      "Le cambie desde fuera dos veces\n"
     ]
    }
   ],
   "source": [
    "x=1\n",
    "print(\"Le cambie desde fuera dos veces\")"
   ]
  },
  {
   "cell_type": "code",
   "execution_count": 3,
   "metadata": {},
   "outputs": [],
   "source": [
    "import csv\n",
    "\n",
    "\n",
    "def read_csv(path):\n",
    "    with open(path, 'r') as csvfile:\n",
    "        reader = csv.reader(csvfile, delimiter=',')\n",
    "        header = next(reader)\n",
    "        data = []\n",
    "        for row in reader:\n",
    "            iterable = zip(header, row)\n",
    "            country = {key: value for key, value in iterable}\n",
    "            data.append(country)\n",
    "        return data\n",
    "\n",
    "\n",
    "if __name__ == '__main__':\n",
    "    data = read_csv('data.csv')\n",
    "    # tamano = lambda lista:len(lista)\n",
    "    # print(tamano(data))\n"
   ]
  }
 ],
 "metadata": {
  "kernelspec": {
   "display_name": "Python 3 (ipykernel)",
   "language": "python",
   "name": "python3"
  },
  "language_info": {
   "codemirror_mode": {
    "name": "ipython",
    "version": 3
   },
   "file_extension": ".py",
   "mimetype": "text/x-python",
   "name": "python",
   "nbconvert_exporter": "python",
   "pygments_lexer": "ipython3",
   "version": "3.8.10"
  },
  "vscode": {
   "interpreter": {
    "hash": "6456516d082171d82be40a36e4815522511396f13a387d64e50f02f436ab4eb9"
   }
  }
 },
 "nbformat": 4,
 "nbformat_minor": 2
}
